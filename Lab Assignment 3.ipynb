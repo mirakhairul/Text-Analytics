{
 "cells": [
  {
   "cell_type": "markdown",
   "id": "3d92ea6b",
   "metadata": {},
   "source": [
    "# Import Libraries"
   ]
  },
  {
   "cell_type": "code",
   "execution_count": 33,
   "id": "160c8c9d",
   "metadata": {},
   "outputs": [
    {
     "name": "stderr",
     "output_type": "stream",
     "text": [
      "[nltk_data] Downloading package stopwords to /Users/mira/nltk_data...\n",
      "[nltk_data]   Package stopwords is already up-to-date!\n",
      "[nltk_data] Downloading package punkt to /Users/mira/nltk_data...\n",
      "[nltk_data]   Package punkt is already up-to-date!\n",
      "[nltk_data] Downloading package wordnet to /Users/mira/nltk_data...\n",
      "[nltk_data]   Package wordnet is already up-to-date!\n"
     ]
    },
    {
     "data": {
      "text/plain": [
       "True"
      ]
     },
     "execution_count": 33,
     "metadata": {},
     "output_type": "execute_result"
    }
   ],
   "source": [
    "# For text preprocessing\n",
    "import nltk\n",
    "from nltk.corpus import stopwords\n",
    "from nltk.tokenize import word_tokenize\n",
    "from nltk.stem import WordNetLemmatizer\n",
    "\n",
    "import re\n",
    "\n",
    "# For topic modeling\n",
    "from gensim import corpora\n",
    "from gensim.models import LdaModel\n",
    "import pandas as pd\n",
    "\n",
    "# Download NLTK Resources\n",
    "nltk.download('stopwords')\n",
    "nltk.download('punkt')\n",
    "nltk.download('wordnet')"
   ]
  },
  {
   "cell_type": "markdown",
   "id": "d0a7bd37",
   "metadata": {},
   "source": [
    "# Load the Data"
   ]
  },
  {
   "cell_type": "code",
   "execution_count": 34,
   "id": "f269979d",
   "metadata": {},
   "outputs": [],
   "source": [
    "df = pd.read_csv('news_dataset.csv')\n",
    "documents = df['text'].tolist()"
   ]
  },
  {
   "cell_type": "markdown",
   "id": "95ab4522",
   "metadata": {},
   "source": [
    "# Preprocess the Data"
   ]
  },
  {
   "cell_type": "code",
   "execution_count": 35,
   "id": "9f7f4694",
   "metadata": {},
   "outputs": [
    {
     "name": "stdout",
     "output_type": "stream",
     "text": [
      "['wondering', 'anyone', 'could', 'enlighten', 'car', 'saw', 'day', 'sport', 'car', 'looked', 'late', 'early', 'called', 'bricklin', 'door', 'really', 'small', 'addition', 'front', 'bumper', 'separate', 'rest', 'body', 'know', 'anyone', 'tellme', 'model', 'name', 'engine', 'spec', 'year', 'production', 'car', 'made', 'history', 'whatever', 'info', 'funky', 'looking', 'car', 'please']\n"
     ]
    }
   ],
   "source": [
    "# Create a set of English stopwords\n",
    "stop_words = set(stopwords.words('english'))\n",
    "\n",
    "# Initialize a WordNet lemmatizer\n",
    "lemmatizer = WordNetLemmatizer()\n",
    "\n",
    "def preprocess_text(text):\n",
    "    if not isinstance(text, str):\n",
    "        text = str(text)  # Convert non-string inputs to string\n",
    "    tokens = word_tokenize(text.lower())  # Tokenize the text into words and convert to lowercase\n",
    "    tokens = [token for token in tokens if token.isalnum()]  # Filter out non-alphanumeric tokens\n",
    "    tokens = [token for token in tokens if token not in stop_words]  # Remove stopwords from the tokens\n",
    "    tokens = [lemmatizer.lemmatize(token) for token in tokens]  # Lemmatize each token\n",
    "    tokens = [token for token in tokens if len(token) > 1]  # Remove single alphabet letters\n",
    "    tokens = [token for token in tokens if not token.isdigit()]  # Remove numbers\n",
    "    tokens = [token for token in tokens if re.match(r'^[a-zA-Z]+$', token)]  # Remove any remaining special characters\n",
    "    return tokens  # Return the preprocessed tokens\n",
    "\n",
    "# Preprocess each document in the list, handling potential non-string entries\n",
    "preprocessed_documents = [preprocess_text(doc) for doc in documents]\n",
    "\n",
    "print(preprocessed_documents[0])"
   ]
  },
  {
   "cell_type": "markdown",
   "id": "be680d4f",
   "metadata": {},
   "source": [
    "# Create document-term matrix"
   ]
  },
  {
   "cell_type": "code",
   "execution_count": 36,
   "id": "4bdc0e4f",
   "metadata": {},
   "outputs": [],
   "source": [
    "# Create a Gensim Dictionary object from the preprocessed documents\n",
    "dictionary = corpora.Dictionary(preprocessed_documents)\n",
    "\n",
    "# Filter out tokens that appear in less than 15 documents or more than 50% of the documents\n",
    "dictionary.filter_extremes(no_below=15, no_above=0.5)\n",
    "\n",
    "# Convert each preprocessed document into a bag-of-words representation using the dictionary\n",
    "corpus = [dictionary.doc2bow(doc) for doc in preprocessed_documents]"
   ]
  },
  {
   "cell_type": "markdown",
   "id": "46b980d3",
   "metadata": {},
   "source": [
    "# Run LDA"
   ]
  },
  {
   "cell_type": "code",
   "execution_count": 37,
   "id": "b0b80287",
   "metadata": {},
   "outputs": [],
   "source": [
    "# Run LDA\n",
    "lda_model = LdaModel(corpus, num_topics=5, id2word=dictionary, passes=15) # Train an LDA modelon the corpus with 2 topics using Gensim's"
   ]
  },
  {
   "cell_type": "markdown",
   "id": "54ff67b2",
   "metadata": {},
   "source": [
    "# Evaluate the LDA model using Coherence score"
   ]
  },
  {
   "cell_type": "code",
   "execution_count": 38,
   "id": "5bae2428",
   "metadata": {},
   "outputs": [
    {
     "name": "stdout",
     "output_type": "stream",
     "text": [
      "Topic Coherence Score (C_V): 0.5258\n"
     ]
    }
   ],
   "source": [
    "# Calculate the coherence score for the LDA model\n",
    "from gensim.models.coherencemodel import CoherenceModel\n",
    "\n",
    "coherence_model_lda = CoherenceModel(model=lda_model, texts=preprocessed_documents, dictionary=dictionary, coherence='c_v')\n",
    "\n",
    "coherence_lda = coherence_model_lda.get_coherence()\n",
    "# Display the score\n",
    "\n",
    "print(f'Topic Coherence Score (C_V): {coherence_lda:.4f}')\n"
   ]
  },
  {
   "cell_type": "markdown",
   "id": "0d2d645d",
   "metadata": {},
   "source": [
    "# Interpret Results"
   ]
  },
  {
   "cell_type": "code",
   "execution_count": 39,
   "id": "b8b27024",
   "metadata": {},
   "outputs": [
    {
     "name": "stdout",
     "output_type": "stream",
     "text": [
      "Table with Text and Topic:\n",
      "                                                    Text  Topic\n",
      "0      I was wondering if anyone out there could enli...      3\n",
      "1      I recently posted an article asking what kind ...      3\n",
      "2      \\nIt depends on your priorities.  A lot of peo...      3\n",
      "3      an excellent automatic can be found in the sub...      3\n",
      "4      : Ford and his automobile.  I need information...      3\n",
      "...                                                  ...    ...\n",
      "11309  Secrecy in Clipper Chip\\n\\nThe serial number o...      2\n",
      "11310  Hi !\\n\\nI am interested in the source of FEAL ...      3\n",
      "11311  The actual algorithm is classified, however, t...      2\n",
      "11312  \\n\\tThis appears to be generic calling upon th...      4\n",
      "11313  \\nProbably keep quiet and take it, lest they g...      3\n",
      "\n",
      "[11314 rows x 2 columns]\n",
      "\n"
     ]
    }
   ],
   "source": [
    "# empty list to store dominant topic labels for each document\n",
    "text_labels = []\n",
    "\n",
    "# iterate over each processed document\n",
    "for i, doc in enumerate(preprocessed_documents):\n",
    "    # for each document, convert to bag-of-words representation\n",
    "    bow = dictionary.doc2bow(doc)\n",
    "    # get list of topic probabilities\n",
    "    topics = lda_model.get_document_topics(bow)\n",
    "    # determine topic with highest probability\n",
    "    dominant_topic = max(topics, key=lambda x: x[1])[0]\n",
    "    # append to the list\n",
    "    text_labels.append(dominant_topic)\n",
    "    \n",
    "# Create DataFrame\n",
    "df_result = pd.DataFrame({\"Text\": documents, \"Topic\": text_labels})\n",
    "\n",
    "# Print the DataFrame\n",
    "print(\"Table with Text and Topic:\")\n",
    "print(df_result)\n",
    "print()"
   ]
  },
  {
   "cell_type": "code",
   "execution_count": 40,
   "id": "7a3eea66",
   "metadata": {},
   "outputs": [
    {
     "name": "stdout",
     "output_type": "stream",
     "text": [
      "Top terms for Topic #0:\n",
      "['max', 'armenian', 'government', 'people', 'state', 'said', 'one', 'right', 'turkish', 'war']\n",
      "\n",
      "Top terms for Topic #1:\n",
      "['game', 'db', 'team', 'year', 'new', 'player', 'president', 'play', 'university', 'first']\n",
      "\n",
      "Top terms for Topic #2:\n",
      "['key', 'file', 'use', 'system', 'program', 'information', 'encryption', 'chip', 'available', 'data']\n",
      "\n",
      "Top terms for Topic #3:\n",
      "['one', 'would', 'get', 'like', 'know', 'drive', 'problem', 'use', 'thanks', 'work']\n",
      "\n",
      "Top terms for Topic #4:\n",
      "['would', 'one', 'people', 'think', 'know', 'say', 'like', 'god', 'time', 'make']\n",
      "\n"
     ]
    }
   ],
   "source": [
    "# Print top terms for each topic\n",
    "for topic_id in range(lda_model.num_topics):\n",
    "    print(f\"Top terms for Topic #{topic_id}:\")\n",
    "    top_terms = lda_model.show_topic(topic_id, topn=10)\n",
    "    print([term[0] for term in top_terms])\n",
    "    print()"
   ]
  },
  {
   "cell_type": "code",
   "execution_count": 41,
   "id": "38ede1d7",
   "metadata": {},
   "outputs": [
    {
     "name": "stdout",
     "output_type": "stream",
     "text": [
      "Top Terms for Each Topic:\n",
      "Topic 0:\n",
      "- \"max\" (weight: 0.022)\n",
      "- \"armenian\" (weight: 0.011)\n",
      "- \"government\" (weight: 0.011)\n",
      "- \"people\" (weight: 0.008)\n",
      "- \"state\" (weight: 0.007)\n",
      "- \"said\" (weight: 0.006)\n",
      "- \"one\" (weight: 0.005)\n",
      "- \"right\" (weight: 0.005)\n",
      "- \"turkish\" (weight: 0.005)\n",
      "- \"war\" (weight: 0.005)\n",
      "\n",
      "Topic 1:\n",
      "- \"game\" (weight: 0.013)\n",
      "- \"db\" (weight: 0.013)\n",
      "- \"team\" (weight: 0.011)\n",
      "- \"year\" (weight: 0.011)\n",
      "- \"new\" (weight: 0.007)\n",
      "- \"player\" (weight: 0.007)\n",
      "- \"president\" (weight: 0.006)\n",
      "- \"play\" (weight: 0.006)\n",
      "- \"university\" (weight: 0.006)\n",
      "- \"first\" (weight: 0.005)\n",
      "\n",
      "Topic 2:\n",
      "- \"key\" (weight: 0.016)\n",
      "- \"file\" (weight: 0.012)\n",
      "- \"use\" (weight: 0.010)\n",
      "- \"system\" (weight: 0.009)\n",
      "- \"program\" (weight: 0.008)\n",
      "- \"information\" (weight: 0.007)\n",
      "- \"encryption\" (weight: 0.007)\n",
      "- \"chip\" (weight: 0.007)\n",
      "- \"available\" (weight: 0.006)\n",
      "- \"data\" (weight: 0.005)\n",
      "\n",
      "Topic 3:\n",
      "- \"one\" (weight: 0.010)\n",
      "- \"would\" (weight: 0.009)\n",
      "- \"get\" (weight: 0.009)\n",
      "- \"like\" (weight: 0.008)\n",
      "- \"know\" (weight: 0.007)\n",
      "- \"drive\" (weight: 0.007)\n",
      "- \"problem\" (weight: 0.007)\n",
      "- \"use\" (weight: 0.006)\n",
      "- \"thanks\" (weight: 0.006)\n",
      "- \"work\" (weight: 0.006)\n",
      "\n",
      "Topic 4:\n",
      "- \"would\" (weight: 0.014)\n",
      "- \"one\" (weight: 0.011)\n",
      "- \"people\" (weight: 0.010)\n",
      "- \"think\" (weight: 0.009)\n",
      "- \"know\" (weight: 0.008)\n",
      "- \"say\" (weight: 0.007)\n",
      "- \"like\" (weight: 0.006)\n",
      "- \"god\" (weight: 0.006)\n",
      "- \"time\" (weight: 0.005)\n",
      "- \"make\" (weight: 0.005)\n",
      "\n"
     ]
    }
   ],
   "source": [
    "# Print the top terms for each topic with weight\n",
    "print(\"Top Terms for Each Topic:\")\n",
    "for idx, topic in lda_model.print_topics():\n",
    "    print(f\"Topic {idx}:\")\n",
    "    terms = [term.strip() for term in topic.split(\"+\")]\n",
    "    for term in terms:\n",
    "        weight, word = term.split(\"*\")\n",
    "        print(f\"- {word.strip()} (weight: {weight.strip()})\")\n",
    "    print()"
   ]
  }
 ],
 "metadata": {
  "kernelspec": {
   "display_name": "Python 3 (ipykernel)",
   "language": "python",
   "name": "python3"
  },
  "language_info": {
   "codemirror_mode": {
    "name": "ipython",
    "version": 3
   },
   "file_extension": ".py",
   "mimetype": "text/x-python",
   "name": "python",
   "nbconvert_exporter": "python",
   "pygments_lexer": "ipython3",
   "version": "3.11.5"
  }
 },
 "nbformat": 4,
 "nbformat_minor": 5
}
